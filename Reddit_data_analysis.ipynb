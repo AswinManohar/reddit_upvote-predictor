{
 "cells": [
  {
   "cell_type": "code",
   "execution_count": 63,
   "metadata": {},
   "outputs": [],
   "source": [
    "import praw\n",
    "import pandas as pd\n",
    "import datetime as dt\n",
    "from prawcore.exceptions import ResponseException\n",
    "import numpy as np"
   ]
  },
  {
   "cell_type": "code",
   "execution_count": 19,
   "metadata": {},
   "outputs": [
    {
     "name": "stdout",
     "output_type": "stream",
     "text": [
      "coffeefebutter\n"
     ]
    }
   ],
   "source": [
    "reddit = praw.Reddit(client_id='l-_giPjAG6R_lA', \\\n",
    "                     client_secret='2g-Zjl-9gqlwE09ozb88rBvx_HssKA', \\\n",
    "                     user_agent='hello_I_nice', \\\n",
    "                     username='coffeefebutter', \\\n",
    "                     password='aswinbio123')\n",
    "\n",
    "print(reddit.user.me())"
   ]
  },
  {
   "cell_type": "code",
   "execution_count": null,
   "metadata": {},
   "outputs": [],
   "source": []
  },
  {
   "cell_type": "code",
   "execution_count": 44,
   "metadata": {},
   "outputs": [
    {
     "name": "stdout",
     "output_type": "stream",
     "text": [
      "Askreddit\n",
      "TrueReddit\n",
      "changemyview\n",
      "Foodforthought\n",
      "redditdotcom\n",
      "Ask_Politics\n",
      "TalesFromRetail\n",
      "AskHistorians\n",
      "self\n",
      "AskSocialScience\n",
      "explainlikeimfive\n",
      "offmychest\n",
      "explainlikeIAmA\n",
      "askscience\n",
      "NoStupidQuestions\n",
      "thatHappened\n",
      "indepthstories\n"
     ]
    }
   ],
   "source": [
    "sub = ['Askreddit','TrueReddit','changemyview','Foodforthought','redditdotcom','Ask_Politics','TalesFromRetail','AskHistorians','self','AskSocialScience','explainlikeimfive','offmychest','explainlikeIAmA','askscience','NoStupidQuestions','thatHappened','indepthstories']\n",
    "topics_dict = {\"title\":[], \n",
    "               \"score\":[], \n",
    "               \"id\":[],  \n",
    "               \"comms_num\": [], \n",
    "               \"created\": [], \n",
    "               \"body\":[]}\n",
    "\n",
    "for s in sub:\n",
    "    \n",
    "    subreddit = reddit.subreddit(s) \n",
    "    \n",
    "    print(subreddit)\n",
    "    top_subreddit = subreddit.top(limit=500)\n",
    "    #topics_dict = {\"title\":[], \n",
    "     #              \"score\":[], \n",
    "      ##             \"id\":[],  \n",
    "        #           \"comms_num\": [], \n",
    "         #          \"created\": [], \n",
    "          #         \"body\":[]}\n",
    "    for submission in top_subreddit:\n",
    "        #print(submission)\n",
    "        topics_dict[\"title\"].append(submission.title)\n",
    "        topics_dict[\"score\"].append(submission.score)\n",
    "        topics_dict[\"id\"].append(submission.id)\n",
    "        #topics_dict[\"url\"].append(submission.url)\n",
    "        topics_dict[\"comms_num\"].append(submission.num_comments)\n",
    "        topics_dict[\"created\"].append(submission.created)\n",
    "        topics_dict[\"body\"].append(submission.selftext)\n",
    "    \n",
    "        reddit_data = pd.DataFrame(topics_dict)\n"
   ]
  },
  {
   "cell_type": "code",
   "execution_count": 45,
   "metadata": {},
   "outputs": [],
   "source": [
    "reddit_data.to_csv('final_output.csv', index=False) \n"
   ]
  },
  {
   "cell_type": "code",
   "execution_count": 46,
   "metadata": {},
   "outputs": [
    {
     "data": {
      "text/html": [
       "<div>\n",
       "<style scoped>\n",
       "    .dataframe tbody tr th:only-of-type {\n",
       "        vertical-align: middle;\n",
       "    }\n",
       "\n",
       "    .dataframe tbody tr th {\n",
       "        vertical-align: top;\n",
       "    }\n",
       "\n",
       "    .dataframe thead th {\n",
       "        text-align: right;\n",
       "    }\n",
       "</style>\n",
       "<table border=\"1\" class=\"dataframe\">\n",
       "  <thead>\n",
       "    <tr style=\"text-align: right;\">\n",
       "      <th></th>\n",
       "      <th>title</th>\n",
       "      <th>score</th>\n",
       "      <th>id</th>\n",
       "      <th>comms_num</th>\n",
       "      <th>created</th>\n",
       "      <th>body</th>\n",
       "    </tr>\n",
       "  </thead>\n",
       "  <tbody>\n",
       "    <tr>\n",
       "      <th>0</th>\n",
       "      <td>People who haven't pooped in 2019 yet, why are...</td>\n",
       "      <td>221858</td>\n",
       "      <td>ablzuq</td>\n",
       "      <td>8008</td>\n",
       "      <td>1.546406e+09</td>\n",
       "      <td></td>\n",
       "    </tr>\n",
       "    <tr>\n",
       "      <th>1</th>\n",
       "      <td>How would you feel about Reddit adding 3 NSFW ...</td>\n",
       "      <td>201332</td>\n",
       "      <td>l7530r</td>\n",
       "      <td>2712</td>\n",
       "      <td>1.611889e+09</td>\n",
       "      <td></td>\n",
       "    </tr>\n",
       "    <tr>\n",
       "      <th>2</th>\n",
       "      <td>Would you watch a show where a billionaire CEO...</td>\n",
       "      <td>197515</td>\n",
       "      <td>f08dxb</td>\n",
       "      <td>13493</td>\n",
       "      <td>1.581098e+09</td>\n",
       "      <td></td>\n",
       "    </tr>\n",
       "    <tr>\n",
       "      <th>3</th>\n",
       "      <td>What if God came down one day and said \"It's p...</td>\n",
       "      <td>195823</td>\n",
       "      <td>iwedc5</td>\n",
       "      <td>10419</td>\n",
       "      <td>1.600639e+09</td>\n",
       "      <td></td>\n",
       "    </tr>\n",
       "    <tr>\n",
       "      <th>4</th>\n",
       "      <td>How would you feel about a feature where if so...</td>\n",
       "      <td>186371</td>\n",
       "      <td>draola</td>\n",
       "      <td>2823</td>\n",
       "      <td>1.572861e+09</td>\n",
       "      <td></td>\n",
       "    </tr>\n",
       "    <tr>\n",
       "      <th>...</th>\n",
       "      <td>...</td>\n",
       "      <td>...</td>\n",
       "      <td>...</td>\n",
       "      <td>...</td>\n",
       "      <td>...</td>\n",
       "      <td>...</td>\n",
       "    </tr>\n",
       "    <tr>\n",
       "      <th>8495</th>\n",
       "      <td>Texas Couple Exonerated 25 Years After Being C...</td>\n",
       "      <td>67</td>\n",
       "      <td>6il13q</td>\n",
       "      <td>11</td>\n",
       "      <td>1.498071e+09</td>\n",
       "      <td></td>\n",
       "    </tr>\n",
       "    <tr>\n",
       "      <th>8496</th>\n",
       "      <td>Rigged: Forced into debt. Worked past exhausti...</td>\n",
       "      <td>63</td>\n",
       "      <td>6hx7u7</td>\n",
       "      <td>4</td>\n",
       "      <td>1.497780e+09</td>\n",
       "      <td></td>\n",
       "    </tr>\n",
       "    <tr>\n",
       "      <th>8497</th>\n",
       "      <td>Trump's Data Team Saw A Different America -- A...</td>\n",
       "      <td>66</td>\n",
       "      <td>5cgxaj</td>\n",
       "      <td>4</td>\n",
       "      <td>1.478927e+09</td>\n",
       "      <td></td>\n",
       "    </tr>\n",
       "    <tr>\n",
       "      <th>8498</th>\n",
       "      <td>The Contestant who Outsmarted The Price is Right</td>\n",
       "      <td>63</td>\n",
       "      <td>4zh4a8</td>\n",
       "      <td>4</td>\n",
       "      <td>1.472134e+09</td>\n",
       "      <td></td>\n",
       "    </tr>\n",
       "    <tr>\n",
       "      <th>8499</th>\n",
       "      <td>The Journalist and the Troll: Benjamin Wey Spe...</td>\n",
       "      <td>65</td>\n",
       "      <td>4apz8u</td>\n",
       "      <td>11</td>\n",
       "      <td>1.458193e+09</td>\n",
       "      <td></td>\n",
       "    </tr>\n",
       "  </tbody>\n",
       "</table>\n",
       "<p>8500 rows × 6 columns</p>\n",
       "</div>"
      ],
      "text/plain": [
       "                                                  title   score      id  \\\n",
       "0     People who haven't pooped in 2019 yet, why are...  221858  ablzuq   \n",
       "1     How would you feel about Reddit adding 3 NSFW ...  201332  l7530r   \n",
       "2     Would you watch a show where a billionaire CEO...  197515  f08dxb   \n",
       "3     What if God came down one day and said \"It's p...  195823  iwedc5   \n",
       "4     How would you feel about a feature where if so...  186371  draola   \n",
       "...                                                 ...     ...     ...   \n",
       "8495  Texas Couple Exonerated 25 Years After Being C...      67  6il13q   \n",
       "8496  Rigged: Forced into debt. Worked past exhausti...      63  6hx7u7   \n",
       "8497  Trump's Data Team Saw A Different America -- A...      66  5cgxaj   \n",
       "8498   The Contestant who Outsmarted The Price is Right      63  4zh4a8   \n",
       "8499  The Journalist and the Troll: Benjamin Wey Spe...      65  4apz8u   \n",
       "\n",
       "      comms_num       created body  \n",
       "0          8008  1.546406e+09       \n",
       "1          2712  1.611889e+09       \n",
       "2         13493  1.581098e+09       \n",
       "3         10419  1.600639e+09       \n",
       "4          2823  1.572861e+09       \n",
       "...         ...           ...  ...  \n",
       "8495         11  1.498071e+09       \n",
       "8496          4  1.497780e+09       \n",
       "8497          4  1.478927e+09       \n",
       "8498          4  1.472134e+09       \n",
       "8499         11  1.458193e+09       \n",
       "\n",
       "[8500 rows x 6 columns]"
      ]
     },
     "execution_count": 46,
     "metadata": {},
     "output_type": "execute_result"
    }
   ],
   "source": [
    "reddit_data"
   ]
  },
  {
   "cell_type": "code",
   "execution_count": 48,
   "metadata": {},
   "outputs": [],
   "source": [
    "def get_date(created):\n",
    "    return dt.datetime.fromtimestamp(created)"
   ]
  },
  {
   "cell_type": "code",
   "execution_count": 50,
   "metadata": {},
   "outputs": [],
   "source": [
    "_timestamp = reddit_data[\"created\"].apply(get_date)\n",
    "\n",
    "reddit_data = reddit_data.assign(timestamp = _timestamp)"
   ]
  },
  {
   "cell_type": "code",
   "execution_count": 51,
   "metadata": {},
   "outputs": [
    {
     "data": {
      "text/html": [
       "<div>\n",
       "<style scoped>\n",
       "    .dataframe tbody tr th:only-of-type {\n",
       "        vertical-align: middle;\n",
       "    }\n",
       "\n",
       "    .dataframe tbody tr th {\n",
       "        vertical-align: top;\n",
       "    }\n",
       "\n",
       "    .dataframe thead th {\n",
       "        text-align: right;\n",
       "    }\n",
       "</style>\n",
       "<table border=\"1\" class=\"dataframe\">\n",
       "  <thead>\n",
       "    <tr style=\"text-align: right;\">\n",
       "      <th></th>\n",
       "      <th>title</th>\n",
       "      <th>score</th>\n",
       "      <th>id</th>\n",
       "      <th>comms_num</th>\n",
       "      <th>created</th>\n",
       "      <th>body</th>\n",
       "      <th>timestamp</th>\n",
       "    </tr>\n",
       "  </thead>\n",
       "  <tbody>\n",
       "    <tr>\n",
       "      <th>0</th>\n",
       "      <td>People who haven't pooped in 2019 yet, why are...</td>\n",
       "      <td>221858</td>\n",
       "      <td>ablzuq</td>\n",
       "      <td>8008</td>\n",
       "      <td>1.546406e+09</td>\n",
       "      <td></td>\n",
       "      <td>2019-01-02 06:06:27</td>\n",
       "    </tr>\n",
       "    <tr>\n",
       "      <th>1</th>\n",
       "      <td>How would you feel about Reddit adding 3 NSFW ...</td>\n",
       "      <td>201332</td>\n",
       "      <td>l7530r</td>\n",
       "      <td>2712</td>\n",
       "      <td>1.611889e+09</td>\n",
       "      <td></td>\n",
       "      <td>2021-01-29 03:51:22</td>\n",
       "    </tr>\n",
       "    <tr>\n",
       "      <th>2</th>\n",
       "      <td>Would you watch a show where a billionaire CEO...</td>\n",
       "      <td>197515</td>\n",
       "      <td>f08dxb</td>\n",
       "      <td>13493</td>\n",
       "      <td>1.581098e+09</td>\n",
       "      <td></td>\n",
       "      <td>2020-02-07 18:53:32</td>\n",
       "    </tr>\n",
       "    <tr>\n",
       "      <th>3</th>\n",
       "      <td>What if God came down one day and said \"It's p...</td>\n",
       "      <td>195823</td>\n",
       "      <td>iwedc5</td>\n",
       "      <td>10419</td>\n",
       "      <td>1.600639e+09</td>\n",
       "      <td></td>\n",
       "      <td>2020-09-21 00:01:51</td>\n",
       "    </tr>\n",
       "    <tr>\n",
       "      <th>4</th>\n",
       "      <td>How would you feel about a feature where if so...</td>\n",
       "      <td>186371</td>\n",
       "      <td>draola</td>\n",
       "      <td>2823</td>\n",
       "      <td>1.572861e+09</td>\n",
       "      <td></td>\n",
       "      <td>2019-11-04 10:57:46</td>\n",
       "    </tr>\n",
       "    <tr>\n",
       "      <th>...</th>\n",
       "      <td>...</td>\n",
       "      <td>...</td>\n",
       "      <td>...</td>\n",
       "      <td>...</td>\n",
       "      <td>...</td>\n",
       "      <td>...</td>\n",
       "      <td>...</td>\n",
       "    </tr>\n",
       "    <tr>\n",
       "      <th>8495</th>\n",
       "      <td>Texas Couple Exonerated 25 Years After Being C...</td>\n",
       "      <td>67</td>\n",
       "      <td>6il13q</td>\n",
       "      <td>11</td>\n",
       "      <td>1.498071e+09</td>\n",
       "      <td></td>\n",
       "      <td>2017-06-21 20:46:06</td>\n",
       "    </tr>\n",
       "    <tr>\n",
       "      <th>8496</th>\n",
       "      <td>Rigged: Forced into debt. Worked past exhausti...</td>\n",
       "      <td>63</td>\n",
       "      <td>6hx7u7</td>\n",
       "      <td>4</td>\n",
       "      <td>1.497780e+09</td>\n",
       "      <td></td>\n",
       "      <td>2017-06-18 11:51:53</td>\n",
       "    </tr>\n",
       "    <tr>\n",
       "      <th>8497</th>\n",
       "      <td>Trump's Data Team Saw A Different America -- A...</td>\n",
       "      <td>66</td>\n",
       "      <td>5cgxaj</td>\n",
       "      <td>4</td>\n",
       "      <td>1.478927e+09</td>\n",
       "      <td></td>\n",
       "      <td>2016-11-12 06:11:37</td>\n",
       "    </tr>\n",
       "    <tr>\n",
       "      <th>8498</th>\n",
       "      <td>The Contestant who Outsmarted The Price is Right</td>\n",
       "      <td>63</td>\n",
       "      <td>4zh4a8</td>\n",
       "      <td>4</td>\n",
       "      <td>1.472134e+09</td>\n",
       "      <td></td>\n",
       "      <td>2016-08-25 16:07:43</td>\n",
       "    </tr>\n",
       "    <tr>\n",
       "      <th>8499</th>\n",
       "      <td>The Journalist and the Troll: Benjamin Wey Spe...</td>\n",
       "      <td>65</td>\n",
       "      <td>4apz8u</td>\n",
       "      <td>11</td>\n",
       "      <td>1.458193e+09</td>\n",
       "      <td></td>\n",
       "      <td>2016-03-17 06:42:35</td>\n",
       "    </tr>\n",
       "  </tbody>\n",
       "</table>\n",
       "<p>8500 rows × 7 columns</p>\n",
       "</div>"
      ],
      "text/plain": [
       "                                                  title   score      id  \\\n",
       "0     People who haven't pooped in 2019 yet, why are...  221858  ablzuq   \n",
       "1     How would you feel about Reddit adding 3 NSFW ...  201332  l7530r   \n",
       "2     Would you watch a show where a billionaire CEO...  197515  f08dxb   \n",
       "3     What if God came down one day and said \"It's p...  195823  iwedc5   \n",
       "4     How would you feel about a feature where if so...  186371  draola   \n",
       "...                                                 ...     ...     ...   \n",
       "8495  Texas Couple Exonerated 25 Years After Being C...      67  6il13q   \n",
       "8496  Rigged: Forced into debt. Worked past exhausti...      63  6hx7u7   \n",
       "8497  Trump's Data Team Saw A Different America -- A...      66  5cgxaj   \n",
       "8498   The Contestant who Outsmarted The Price is Right      63  4zh4a8   \n",
       "8499  The Journalist and the Troll: Benjamin Wey Spe...      65  4apz8u   \n",
       "\n",
       "      comms_num       created body           timestamp  \n",
       "0          8008  1.546406e+09      2019-01-02 06:06:27  \n",
       "1          2712  1.611889e+09      2021-01-29 03:51:22  \n",
       "2         13493  1.581098e+09      2020-02-07 18:53:32  \n",
       "3         10419  1.600639e+09      2020-09-21 00:01:51  \n",
       "4          2823  1.572861e+09      2019-11-04 10:57:46  \n",
       "...         ...           ...  ...                 ...  \n",
       "8495         11  1.498071e+09      2017-06-21 20:46:06  \n",
       "8496          4  1.497780e+09      2017-06-18 11:51:53  \n",
       "8497          4  1.478927e+09      2016-11-12 06:11:37  \n",
       "8498          4  1.472134e+09      2016-08-25 16:07:43  \n",
       "8499         11  1.458193e+09      2016-03-17 06:42:35  \n",
       "\n",
       "[8500 rows x 7 columns]"
      ]
     },
     "execution_count": 51,
     "metadata": {},
     "output_type": "execute_result"
    }
   ],
   "source": [
    "reddit_data"
   ]
  },
  {
   "cell_type": "code",
   "execution_count": 59,
   "metadata": {},
   "outputs": [],
   "source": [
    "reddit_data.columns = ['title', 'upvotes','ID','comments','created','body','time_posted']\n"
   ]
  },
  {
   "cell_type": "code",
   "execution_count": 52,
   "metadata": {},
   "outputs": [],
   "source": [
    "def eda(dataframe):\n",
    "    print (\"missing values \\n\", dataframe.isnull().sum())\n",
    "    print (\"dataframe index \\n\", dataframe.index)\n",
    "    print (\"dataframe types \\n\", dataframe.dtypes)\n",
    "    print (\"dataframe shape \\n\", dataframe.shape)\n",
    "    print (\"dataframe describe \\n\", dataframe.describe())\n",
    "    for item in dataframe:\n",
    "        print (item)\n",
    "        print (dataframe[item].nunique())"
   ]
  },
  {
   "cell_type": "code",
   "execution_count": 53,
   "metadata": {},
   "outputs": [
    {
     "name": "stdout",
     "output_type": "stream",
     "text": [
      "missing values \n",
      " title        0\n",
      "score        0\n",
      "id           0\n",
      "comms_num    0\n",
      "created      0\n",
      "body         0\n",
      "timestamp    0\n",
      "dtype: int64\n",
      "dataframe index \n",
      " RangeIndex(start=0, stop=8500, step=1)\n",
      "dataframe types \n",
      " title                object\n",
      "score                 int64\n",
      "id                   object\n",
      "comms_num             int64\n",
      "created             float64\n",
      "body                 object\n",
      "timestamp    datetime64[ns]\n",
      "dtype: object\n",
      "dataframe shape \n",
      " (8500, 7)\n",
      "dataframe describe \n",
      "                score     comms_num       created\n",
      "count    8500.000000   8500.000000  8.500000e+03\n",
      "mean    11109.467059   1424.146588  1.528504e+09\n",
      "std     20303.611949   4873.544028  7.810174e+07\n",
      "min        15.000000      0.000000  1.290819e+09\n",
      "25%       370.750000     53.000000  1.487079e+09\n",
      "50%      3719.500000    210.000000  1.552982e+09\n",
      "75%     13755.000000    672.000000  1.592543e+09\n",
      "max    221858.000000  69741.000000  1.617292e+09\n",
      "title\n",
      "8449\n",
      "score\n",
      "5606\n",
      "id\n",
      "8500\n",
      "comms_num\n",
      "2132\n",
      "created\n",
      "8500\n",
      "body\n",
      "3890\n",
      "timestamp\n",
      "8500\n"
     ]
    }
   ],
   "source": [
    "eda(reddit_data)"
   ]
  },
  {
   "cell_type": "code",
   "execution_count": 54,
   "metadata": {},
   "outputs": [],
   "source": [
    "import matplotlib.pyplot as plt \n",
    "import seaborn as sns"
   ]
  },
  {
   "cell_type": "code",
   "execution_count": 56,
   "metadata": {},
   "outputs": [
    {
     "data": {
      "text/plain": [
       "8449"
      ]
     },
     "execution_count": 56,
     "metadata": {},
     "output_type": "execute_result"
    }
   ],
   "source": [
    "reddit_data['title'].nunique()"
   ]
  },
  {
   "cell_type": "code",
   "execution_count": 61,
   "metadata": {},
   "outputs": [],
   "source": [
    "reddit_data = reddit_data.drop_duplicates(subset=['title'],keep='last',inplace=False)"
   ]
  },
  {
   "cell_type": "code",
   "execution_count": null,
   "metadata": {},
   "outputs": [],
   "source": [
    "To Calculate the median of comment in the Askreddit subreddit"
   ]
  },
  {
   "cell_type": "code",
   "execution_count": 65,
   "metadata": {},
   "outputs": [
    {
     "name": "stderr",
     "output_type": "stream",
     "text": [
      "<ipython-input-65-e96ab84cd547>:2: SettingWithCopyWarning: \n",
      "A value is trying to be set on a copy of a slice from a DataFrame.\n",
      "Try using .loc[row_indexer,col_indexer] = value instead\n",
      "\n",
      "See the caveats in the documentation: https://pandas.pydata.org/pandas-docs/stable/user_guide/indexing.html#returning-a-view-versus-a-copy\n",
      "  reddit_data['Above_Below_Median'] = np.where(reddit_data['comments']>=med_comments, 'Above', 'Below')\n"
     ]
    }
   ],
   "source": [
    "med_comments = reddit_data['comments'].median() \n",
    "reddit_data['Above_Below_Median'] = np.where(reddit_data['comments']>=med_comments, 'Above', 'Below')\n",
    "\n",
    "\n",
    "\n"
   ]
  },
  {
   "cell_type": "code",
   "execution_count": 66,
   "metadata": {},
   "outputs": [
    {
     "data": {
      "text/plain": [
       "Above    0.500059\n",
       "Below    0.499941\n",
       "Name: Above_Below_Median, dtype: float64"
      ]
     },
     "execution_count": 66,
     "metadata": {},
     "output_type": "execute_result"
    }
   ],
   "source": [
    "\n",
    "med_dist = reddit_data['Above_Below_Median'].value_counts()/len(reddit_data)\n",
    "med_dist"
   ]
  },
  {
   "cell_type": "code",
   "execution_count": null,
   "metadata": {},
   "outputs": [],
   "source": [
    "above 50% Reddit posts that have more than the median number of comments. It just confirms that we have so many Reddit posts in this sample that have a low number of comments."
   ]
  },
  {
   "cell_type": "code",
   "execution_count": null,
   "metadata": {},
   "outputs": [],
   "source": [
    "To identify the day of the week:"
   ]
  },
  {
   "cell_type": "code",
   "execution_count": 70,
   "metadata": {},
   "outputs": [
    {
     "name": "stderr",
     "output_type": "stream",
     "text": [
      "<ipython-input-70-35b5422e8cd9>:1: SettingWithCopyWarning: \n",
      "A value is trying to be set on a copy of a slice from a DataFrame.\n",
      "Try using .loc[row_indexer,col_indexer] = value instead\n",
      "\n",
      "See the caveats in the documentation: https://pandas.pydata.org/pandas-docs/stable/user_guide/indexing.html#returning-a-view-versus-a-copy\n",
      "  reddit_data['time_posted'] = pd.to_datetime(reddit_data['time_posted'], format = '%Y-%m-%d %H:%M:%S')\n",
      "<ipython-input-70-35b5422e8cd9>:3: SettingWithCopyWarning: \n",
      "A value is trying to be set on a copy of a slice from a DataFrame.\n",
      "Try using .loc[row_indexer,col_indexer] = value instead\n",
      "\n",
      "See the caveats in the documentation: https://pandas.pydata.org/pandas-docs/stable/user_guide/indexing.html#returning-a-view-versus-a-copy\n",
      "  reddit_data['Day of Week'] = reddit_data['time_posted'].dt.day_name()\n"
     ]
    }
   ],
   "source": [
    "reddit_data['time_posted'] = pd.to_datetime(reddit_data['time_posted'], format = '%Y-%m-%d %H:%M:%S')\n",
    "\n",
    "reddit_data['Day of Week'] = reddit_data['time_posted'].dt.day_name()"
   ]
  },
  {
   "cell_type": "code",
   "execution_count": 75,
   "metadata": {},
   "outputs": [
    {
     "data": {
      "text/html": [
       "<div>\n",
       "<style scoped>\n",
       "    .dataframe tbody tr th:only-of-type {\n",
       "        vertical-align: middle;\n",
       "    }\n",
       "\n",
       "    .dataframe tbody tr th {\n",
       "        vertical-align: top;\n",
       "    }\n",
       "\n",
       "    .dataframe thead th {\n",
       "        text-align: right;\n",
       "    }\n",
       "</style>\n",
       "<table border=\"1\" class=\"dataframe\">\n",
       "  <thead>\n",
       "    <tr style=\"text-align: right;\">\n",
       "      <th></th>\n",
       "      <th>title</th>\n",
       "      <th>upvotes</th>\n",
       "      <th>ID</th>\n",
       "      <th>comments</th>\n",
       "      <th>created</th>\n",
       "      <th>body</th>\n",
       "      <th>time_posted</th>\n",
       "      <th>Above_Below_Median</th>\n",
       "      <th>Day of Week</th>\n",
       "      <th>counter</th>\n",
       "    </tr>\n",
       "  </thead>\n",
       "  <tbody>\n",
       "    <tr>\n",
       "      <th>0</th>\n",
       "      <td>People who haven't pooped in 2019 yet, why are...</td>\n",
       "      <td>221858</td>\n",
       "      <td>ablzuq</td>\n",
       "      <td>8008</td>\n",
       "      <td>1.546406e+09</td>\n",
       "      <td></td>\n",
       "      <td>2019-01-02 06:06:27</td>\n",
       "      <td>Above</td>\n",
       "      <td>Wednesday</td>\n",
       "      <td>0</td>\n",
       "    </tr>\n",
       "    <tr>\n",
       "      <th>1</th>\n",
       "      <td>How would you feel about Reddit adding 3 NSFW ...</td>\n",
       "      <td>201332</td>\n",
       "      <td>l7530r</td>\n",
       "      <td>2712</td>\n",
       "      <td>1.611889e+09</td>\n",
       "      <td></td>\n",
       "      <td>2021-01-29 03:51:22</td>\n",
       "      <td>Above</td>\n",
       "      <td>Friday</td>\n",
       "      <td>1</td>\n",
       "    </tr>\n",
       "    <tr>\n",
       "      <th>2</th>\n",
       "      <td>Would you watch a show where a billionaire CEO...</td>\n",
       "      <td>197515</td>\n",
       "      <td>f08dxb</td>\n",
       "      <td>13493</td>\n",
       "      <td>1.581098e+09</td>\n",
       "      <td></td>\n",
       "      <td>2020-02-07 18:53:32</td>\n",
       "      <td>Above</td>\n",
       "      <td>Friday</td>\n",
       "      <td>2</td>\n",
       "    </tr>\n",
       "    <tr>\n",
       "      <th>3</th>\n",
       "      <td>What if God came down one day and said \"It's p...</td>\n",
       "      <td>195823</td>\n",
       "      <td>iwedc5</td>\n",
       "      <td>10419</td>\n",
       "      <td>1.600639e+09</td>\n",
       "      <td></td>\n",
       "      <td>2020-09-21 00:01:51</td>\n",
       "      <td>Above</td>\n",
       "      <td>Monday</td>\n",
       "      <td>3</td>\n",
       "    </tr>\n",
       "    <tr>\n",
       "      <th>4</th>\n",
       "      <td>How would you feel about a feature where if so...</td>\n",
       "      <td>186371</td>\n",
       "      <td>draola</td>\n",
       "      <td>2823</td>\n",
       "      <td>1.572861e+09</td>\n",
       "      <td></td>\n",
       "      <td>2019-11-04 10:57:46</td>\n",
       "      <td>Above</td>\n",
       "      <td>Monday</td>\n",
       "      <td>4</td>\n",
       "    </tr>\n",
       "    <tr>\n",
       "      <th>...</th>\n",
       "      <td>...</td>\n",
       "      <td>...</td>\n",
       "      <td>...</td>\n",
       "      <td>...</td>\n",
       "      <td>...</td>\n",
       "      <td>...</td>\n",
       "      <td>...</td>\n",
       "      <td>...</td>\n",
       "      <td>...</td>\n",
       "      <td>...</td>\n",
       "    </tr>\n",
       "    <tr>\n",
       "      <th>8495</th>\n",
       "      <td>Texas Couple Exonerated 25 Years After Being C...</td>\n",
       "      <td>67</td>\n",
       "      <td>6il13q</td>\n",
       "      <td>11</td>\n",
       "      <td>1.498071e+09</td>\n",
       "      <td></td>\n",
       "      <td>2017-06-21 20:46:06</td>\n",
       "      <td>Below</td>\n",
       "      <td>Wednesday</td>\n",
       "      <td>8444</td>\n",
       "    </tr>\n",
       "    <tr>\n",
       "      <th>8496</th>\n",
       "      <td>Rigged: Forced into debt. Worked past exhausti...</td>\n",
       "      <td>63</td>\n",
       "      <td>6hx7u7</td>\n",
       "      <td>4</td>\n",
       "      <td>1.497780e+09</td>\n",
       "      <td></td>\n",
       "      <td>2017-06-18 11:51:53</td>\n",
       "      <td>Below</td>\n",
       "      <td>Sunday</td>\n",
       "      <td>8445</td>\n",
       "    </tr>\n",
       "    <tr>\n",
       "      <th>8497</th>\n",
       "      <td>Trump's Data Team Saw A Different America -- A...</td>\n",
       "      <td>66</td>\n",
       "      <td>5cgxaj</td>\n",
       "      <td>4</td>\n",
       "      <td>1.478927e+09</td>\n",
       "      <td></td>\n",
       "      <td>2016-11-12 06:11:37</td>\n",
       "      <td>Below</td>\n",
       "      <td>Saturday</td>\n",
       "      <td>8446</td>\n",
       "    </tr>\n",
       "    <tr>\n",
       "      <th>8498</th>\n",
       "      <td>The Contestant who Outsmarted The Price is Right</td>\n",
       "      <td>63</td>\n",
       "      <td>4zh4a8</td>\n",
       "      <td>4</td>\n",
       "      <td>1.472134e+09</td>\n",
       "      <td></td>\n",
       "      <td>2016-08-25 16:07:43</td>\n",
       "      <td>Below</td>\n",
       "      <td>Thursday</td>\n",
       "      <td>8447</td>\n",
       "    </tr>\n",
       "    <tr>\n",
       "      <th>8499</th>\n",
       "      <td>The Journalist and the Troll: Benjamin Wey Spe...</td>\n",
       "      <td>65</td>\n",
       "      <td>4apz8u</td>\n",
       "      <td>11</td>\n",
       "      <td>1.458193e+09</td>\n",
       "      <td></td>\n",
       "      <td>2016-03-17 06:42:35</td>\n",
       "      <td>Below</td>\n",
       "      <td>Thursday</td>\n",
       "      <td>8448</td>\n",
       "    </tr>\n",
       "  </tbody>\n",
       "</table>\n",
       "<p>8449 rows × 10 columns</p>\n",
       "</div>"
      ],
      "text/plain": [
       "                                                  title  upvotes      ID  \\\n",
       "0     People who haven't pooped in 2019 yet, why are...   221858  ablzuq   \n",
       "1     How would you feel about Reddit adding 3 NSFW ...   201332  l7530r   \n",
       "2     Would you watch a show where a billionaire CEO...   197515  f08dxb   \n",
       "3     What if God came down one day and said \"It's p...   195823  iwedc5   \n",
       "4     How would you feel about a feature where if so...   186371  draola   \n",
       "...                                                 ...      ...     ...   \n",
       "8495  Texas Couple Exonerated 25 Years After Being C...       67  6il13q   \n",
       "8496  Rigged: Forced into debt. Worked past exhausti...       63  6hx7u7   \n",
       "8497  Trump's Data Team Saw A Different America -- A...       66  5cgxaj   \n",
       "8498   The Contestant who Outsmarted The Price is Right       63  4zh4a8   \n",
       "8499  The Journalist and the Troll: Benjamin Wey Spe...       65  4apz8u   \n",
       "\n",
       "      comments       created body         time_posted Above_Below_Median  \\\n",
       "0         8008  1.546406e+09      2019-01-02 06:06:27              Above   \n",
       "1         2712  1.611889e+09      2021-01-29 03:51:22              Above   \n",
       "2        13493  1.581098e+09      2020-02-07 18:53:32              Above   \n",
       "3        10419  1.600639e+09      2020-09-21 00:01:51              Above   \n",
       "4         2823  1.572861e+09      2019-11-04 10:57:46              Above   \n",
       "...        ...           ...  ...                 ...                ...   \n",
       "8495        11  1.498071e+09      2017-06-21 20:46:06              Below   \n",
       "8496         4  1.497780e+09      2017-06-18 11:51:53              Below   \n",
       "8497         4  1.478927e+09      2016-11-12 06:11:37              Below   \n",
       "8498         4  1.472134e+09      2016-08-25 16:07:43              Below   \n",
       "8499        11  1.458193e+09      2016-03-17 06:42:35              Below   \n",
       "\n",
       "     Day of Week  counter  \n",
       "0      Wednesday        0  \n",
       "1         Friday        1  \n",
       "2         Friday        2  \n",
       "3         Monday        3  \n",
       "4         Monday        4  \n",
       "...          ...      ...  \n",
       "8495   Wednesday     8444  \n",
       "8496      Sunday     8445  \n",
       "8497    Saturday     8446  \n",
       "8498    Thursday     8447  \n",
       "8499    Thursday     8448  \n",
       "\n",
       "[8449 rows x 10 columns]"
      ]
     },
     "execution_count": 75,
     "metadata": {},
     "output_type": "execute_result"
    }
   ],
   "source": [
    "reddit_data"
   ]
  },
  {
   "cell_type": "code",
   "execution_count": 74,
   "metadata": {},
   "outputs": [
    {
     "name": "stderr",
     "output_type": "stream",
     "text": [
      "<ipython-input-74-e6b70f44ca15>:1: SettingWithCopyWarning: \n",
      "A value is trying to be set on a copy of a slice from a DataFrame.\n",
      "Try using .loc[row_indexer,col_indexer] = value instead\n",
      "\n",
      "See the caveats in the documentation: https://pandas.pydata.org/pandas-docs/stable/user_guide/indexing.html#returning-a-view-versus-a-copy\n",
      "  reddit_data['counter'] = np.arange(reddit_data.shape[0])\n"
     ]
    }
   ],
   "source": [
    "reddit_data['counter'] = np.arange(reddit_data.shape[0])"
   ]
  },
  {
   "cell_type": "code",
   "execution_count": 94,
   "metadata": {},
   "outputs": [],
   "source": [
    "askreddit = reddit_data.head(500)#take data only from askreddit\n",
    "CMV = reddit_data.iloc[1000:1500] #to choose a subset of rows that I know belongs to CMV subreddit\n",
    "to_plot = askreddit['Day of Week']\n",
    "values = CMV['Day of Week']"
   ]
  },
  {
   "cell_type": "code",
   "execution_count": 101,
   "metadata": {},
   "outputs": [],
   "source": [
    "to_plot.value_counts()\n",
    "freq_askreddit = to_plot.tolist()"
   ]
  },
  {
   "cell_type": "code",
   "execution_count": 104,
   "metadata": {},
   "outputs": [
    {
     "data": {
      "text/plain": [
       "<AxesSubplot:>"
      ]
     },
     "execution_count": 104,
     "metadata": {},
     "output_type": "execute_result"
    },
    {
     "data": {
      "image/png": "[encoded data removed]",
      "text/plain": [
       "<Figure size 432x288 with 1 Axes>"
      ]
     },
     "metadata": {},
     "output_type": "display_data"
    }
   ],
   "source": [
    "to_plot.value_counts().plot() #blue\n",
    "values.value_counts().plot() #orange"
   ]
  },
  {
   "cell_type": "code",
   "execution_count": 106,
   "metadata": {},
   "outputs": [
    {
     "data": {
      "text/plain": [
       "<AxesSubplot:xlabel='upvotes', ylabel='comments'>"
      ]
     },
     "execution_count": 106,
     "metadata": {},
     "output_type": "execute_result"
    },
    {
     "data": {
      "image/png": "[encoded data removed]",
      "text/plain": [
       "<Figure size 842.4x595.44 with 1 Axes>"
      ]
     },
     "metadata": {},
     "output_type": "display_data"
    }
   ],
   "source": [
    "sns.set(rc={'figure.figsize':(11.7,8.27)})\n",
    "sns.regplot(x=reddit_data['upvotes'], y=reddit_data['comments'], \n",
    "            line_kws={\"color\":\"r\",\"alpha\":0.7,\"lw\":5})\n"
   ]
  },
  {
   "cell_type": "code",
   "execution_count": 107,
   "metadata": {},
   "outputs": [
    {
     "data": {
      "text/plain": [
       "221858"
      ]
     },
     "execution_count": 107,
     "metadata": {},
     "output_type": "execute_result"
    }
   ],
   "source": [
    "reddit_data['upvotes'].max()"
   ]
  },
  {
   "cell_type": "code",
   "execution_count": 110,
   "metadata": {},
   "outputs": [
    {
     "data": {
      "text/plain": [
       "<AxesSubplot:xlabel='upvotes', ylabel='comments'>"
      ]
     },
     "execution_count": 110,
     "metadata": {},
     "output_type": "execute_result"
    },
    {
     "data": {
      "image/png": "[encoded data removed]",
      "text/plain": [
       "<Figure size 842.4x595.44 with 1 Axes>"
      ]
     },
     "metadata": {},
     "output_type": "display_data"
    }
   ],
   "source": [
    "sns.set(rc={'figure.figsize':(11.7,8.27)})\n",
    "sns.regplot(x=askreddit['upvotes'], y=askreddit['comments'], \n",
    "            line_kws={\"color\":\"r\",\"alpha\":0.7,\"lw\":5})\n",
    "sns.regplot(x=CMV['upvotes'], y=CMV['comments'], \n",
    "            line_kws={\"color\":\"r\",\"alpha\":0.7,\"lw\":5})"
   ]
  },
  {
   "cell_type": "code",
   "execution_count": 111,
   "metadata": {},
   "outputs": [
    {
     "data": {
      "text/plain": [
       "<AxesSubplot:xlabel='upvotes', ylabel='comments'>"
      ]
     },
     "execution_count": 111,
     "metadata": {},
     "output_type": "execute_result"
    },
    {
     "data": {
      "image/png": "[encoded data removed]",
      "text/plain": [
       "<Figure size 842.4x595.44 with 1 Axes>"
      ]
     },
     "metadata": {},
     "output_type": "display_data"
    }
   ],
   "source": [
    "\n",
    "sns.regplot(x=CMV['upvotes'], y=CMV['comments'], \n",
    "            line_kws={\"color\":\"r\",\"alpha\":0.7,\"lw\":5})"
   ]
  },
  {
   "cell_type": "code",
   "execution_count": null,
   "metadata": {},
   "outputs": [],
   "source": []
  }
 ],
 "metadata": {
  "kernelspec": {
   "display_name": "Python 3",
   "language": "python",
   "name": "python3"
  },
  "language_info": {
   "codemirror_mode": {
    "name": "ipython",
    "version": 3
   },
   "file_extension": ".py",
   "mimetype": "text/x-python",
   "name": "python",
   "nbconvert_exporter": "python",
   "pygments_lexer": "ipython3",
   "version": "3.8.5"
  }
 },
 "nbformat": 4,
 "nbformat_minor": 4
}
